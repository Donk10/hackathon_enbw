{
 "cells": [
  {
   "cell_type": "code",
   "execution_count": 16,
   "metadata": {},
   "outputs": [
    {
     "name": "stdout",
     "output_type": "stream",
     "text": [
      "['2018-08-01T22:01:43.207Z' '2018-08-01T21:54:35.110Z'\n",
      " '2018-08-01T20:59:09.542Z' ... '2017-12-01T04:40:58.547Z'\n",
      " '2017-12-01T04:16:09.706Z' '2017-12-01T04:04:28.752Z']\n",
      "['2018-08-01T22:01:43.207Z' '2018-08-01T21:54:35.110Z'\n",
      " '2018-08-01T20:59:09.542Z' ... '2017-12-01T04:40:58.547Z'\n",
      " '2017-12-01T04:16:09.706Z' '2017-12-01T04:04:28.752Z']\n"
     ]
    }
   ],
   "source": [
    "import numpy as np\n",
    "import pandas as pd\n",
    "from tqdm import tqdm\n",
    "from IPython import display\n",
    "\n",
    "# import sys to get arguments from command line\n",
    "import sys\n",
    "\n",
    "csvFileName = \"/home/donk/Documents/ENBW/schoenau_2017-2018.csv\"\n",
    "\n",
    "# read data from csv file\n",
    "csvFile_In_DataFrame = pd.read_csv(csvFileName, sep=\",\")\n",
    "# put data into numpy array\n",
    "csvFile_In_NumpyArray = csvFile_In_DataFrame.values\n",
    "\n",
    "# number of measurements\n",
    "numberOfMeasurements = csvFile_In_NumpyArray[:,0].shape[0]\n",
    "import numpy as np\n",
    "import pandas as pd\n",
    "from IPython import display\n",
    "\n",
    "# import sys to get arguments from command line\n",
    "import sys\n",
    "\n",
    "csvFileName = \"/home/donk/Documents/ENBW/schoenau_2017-2018.csv\"\n",
    "\n",
    "# read data from csv file\n",
    "csvFile_In_DataFrame = pd.read_csv(csvFileName, sep=\",\")\n",
    "# put data into numpy array\n",
    "csvFile_In_NumpyArray = csvFile_In_DataFrame.values\n",
    "\n",
    "# number of measurements\n",
    "numberOfMeasurements = csvFile_In_NumpyArray[:,0].shape[0]\n",
    "\n",
    "# value classification moto = 1., pkw = 2., bus = 3., lkw = 4.\n",
    "typeOfVehicle = 2.\n",
    "\n",
    "# count number of vehicles\n",
    "typeCount = np.zeros(4)\n",
    "for i in range(4):\n",
    "    # i+1 gives the type of vehicle\n",
    "    typeCount[i] = np.count_nonzero(\n",
    "        (csvFile_In_NumpyArray[:,2]-(i+1)*np.ones(numberOfMeasurements))==0\n",
    "        )\n",
    "\n",
    "#print(typeCount, np.sum(typeCount), numberOfMeasurements)\n",
    "\n",
    "#print(csvFile_In_DataFrame.head())\n",
    "print(csvFile_In_DataFrame[\"value.timeStamp\"].unique())\n",
    "\n",
    "# value classification moto = 1., pkw = 2., bus = 3., lkw = 4.\n",
    "typeOfVehicle = 2.\n",
    "\n",
    "# count number of vehicles\n",
    "typeCount = np.zeros(4)\n",
    "for i in range(4):\n",
    "    # i+1 gives the type of vehicle\n",
    "    typeCount[i] = np.count_nonzero(\n",
    "        (csvFile_In_NumpyArray[:,2]-(i+1)*np.ones(numberOfMeasurements))==0\n",
    "        )\n",
    "\n",
    "#print(typeCount, np.sum(typeCount), numberOfMeasurements)\n",
    "\n",
    "#print(csvFile_In_DataFrame.head())\n",
    "print(csvFile_In_DataFrame[\"value.timeStamp\"].unique())"
   ]
  },
  {
   "cell_type": "code",
   "execution_count": 5,
   "metadata": {},
   "outputs": [
    {
     "name": "stdout",
     "output_type": "stream",
     "text": [
      "['2018-08-01T22:01:43.207Z' '2018-08-01T21:54:35.110Z'\n",
      " '2018-08-01T20:59:09.542Z' ... '2017-12-01T04:40:58.547Z'\n",
      " '2017-12-01T04:16:09.706Z' '2017-12-01T04:04:28.752Z']\n"
     ]
    }
   ],
   "source": [
    "import numpy as np\n",
    "import pandas as pd\n",
    "from IPython import display\n",
    "\n",
    "# import sys to get arguments from command line\n",
    "import sys\n",
    "\n",
    "csvFileName = \"/home/donk/Documents/ENBW/schoenau_2017-2018.csv\"\n",
    "\n",
    "# read data from csv file\n",
    "csvFile_In_DataFrame = pd.read_csv(csvFileName, sep=\",\")\n",
    "# put data into numpy array\n",
    "csvFile_In_NumpyArray = csvFile_In_DataFrame.values\n",
    "\n",
    "# number of measurements\n",
    "numberOfMeasurements = csvFile_In_NumpyArray[:,0].shape[0]\n",
    "\n",
    "# value classification moto = 1., pkw = 2., bus = 3., lkw = 4.\n",
    "typeOfVehicle = 2.\n",
    "\n",
    "# count number of vehicles\n",
    "typeCount = np.zeros(4)\n",
    "for i in range(4):\n",
    "    # i+1 gives the type of vehicle\n",
    "    typeCount[i] = np.count_nonzero(\n",
    "        (csvFile_In_NumpyArray[:,2]-(i+1)*np.ones(numberOfMeasurements))==0\n",
    "        )\n",
    "\n",
    "#print(typeCount, np.sum(typeCount), numberOfMeasurements)\n",
    "\n",
    "#print(csvFile_In_DataFrame.head())\n",
    "print(csvFile_In_DataFrame[\"value.timeStamp\"].unique())"
   ]
  },
  {
   "cell_type": "code",
   "execution_count": 8,
   "metadata": {},
   "outputs": [
    {
     "data": {
      "text/plain": [
       "0          2018-08-01T22:01:43.207Z\n",
       "1          2018-08-01T21:54:35.110Z\n",
       "2          2018-08-01T20:59:09.542Z\n",
       "3          2018-08-01T20:36:33.624Z\n",
       "4          2018-08-01T19:55:50.115Z\n",
       "5          2018-08-01T19:13:43.280Z\n",
       "6          2018-08-01T19:13:42.348Z\n",
       "7          2018-08-01T19:13:34.205Z\n",
       "8          2018-08-01T19:13:18.528Z\n",
       "9          2018-08-01T18:52:13.847Z\n",
       "10         2018-08-01T18:26:08.204Z\n",
       "11         2018-08-01T18:19:38.564Z\n",
       "12         2018-08-01T18:16:09.181Z\n",
       "13         2018-08-01T18:14:21.573Z\n",
       "14         2018-08-01T17:59:45.720Z\n",
       "15         2018-08-01T17:55:12.301Z\n",
       "16         2018-08-01T17:46:14.040Z\n",
       "17         2018-08-01T17:39:53.952Z\n",
       "18         2018-08-01T17:37:13.275Z\n",
       "19         2018-08-01T17:35:59.352Z\n",
       "20         2018-08-01T17:33:10.142Z\n",
       "21         2018-08-01T17:29:29.001Z\n",
       "22         2018-08-01T17:25:28.793Z\n",
       "23         2018-08-01T17:22:08.714Z\n",
       "24         2018-08-01T17:16:33.281Z\n",
       "25         2018-08-01T17:16:14.934Z\n",
       "26         2018-08-01T17:13:59.373Z\n",
       "27         2018-08-01T17:05:40.433Z\n",
       "28         2018-08-01T17:04:13.218Z\n",
       "29         2018-08-01T17:04:10.072Z\n",
       "                     ...           \n",
       "1263975    2017-12-01T11:21:47.409Z\n",
       "1263976    2017-12-01T11:09:39.379Z\n",
       "1263977    2017-12-01T11:05:04.301Z\n",
       "1263978    2017-12-01T10:49:57.718Z\n",
       "1263979    2017-12-01T10:20:17.238Z\n",
       "1263980    2017-12-01T10:16:32.571Z\n",
       "1263981    2017-12-01T09:59:12.665Z\n",
       "1263982    2017-12-01T09:21:05.753Z\n",
       "1263983    2017-12-01T09:11:47.240Z\n",
       "1263984    2017-12-01T08:29:19.636Z\n",
       "1263985    2017-12-01T08:25:47.441Z\n",
       "1263986    2017-12-01T08:23:28.897Z\n",
       "1263987    2017-12-01T08:19:15.902Z\n",
       "1263988    2017-12-01T08:10:03.229Z\n",
       "1263989    2017-12-01T07:23:32.666Z\n",
       "1263990    2017-12-01T07:10:05.949Z\n",
       "1263991    2017-12-01T07:07:42.213Z\n",
       "1263992    2017-12-01T06:45:38.040Z\n",
       "1263993    2017-12-01T06:41:10.361Z\n",
       "1263994    2017-12-01T06:36:56.931Z\n",
       "1263995    2017-12-01T06:28:54.565Z\n",
       "1263996    2017-12-01T06:06:36.909Z\n",
       "1263997    2017-12-01T06:03:04.388Z\n",
       "1263998    2017-12-01T05:55:35.462Z\n",
       "1263999    2017-12-01T05:52:34.107Z\n",
       "1264000    2017-12-01T05:51:29.768Z\n",
       "1264001    2017-12-01T05:02:45.799Z\n",
       "1264002    2017-12-01T04:40:58.547Z\n",
       "1264003    2017-12-01T04:16:09.706Z\n",
       "1264004    2017-12-01T04:04:28.752Z\n",
       "Name: value.timeStamp, Length: 1264005, dtype: object"
      ]
     },
     "execution_count": 8,
     "metadata": {},
     "output_type": "execute_result"
    }
   ],
   "source": [
    "csvFile_In_DataFrame['value.timeStamp']"
   ]
  },
  {
   "cell_type": "code",
   "execution_count": 66,
   "metadata": {},
   "outputs": [],
   "source": [
    "def weekDay(year, month, day):\n",
    "    offset = [0, 31, 59, 90, 120, 151, 181, 212, 243, 273, 304, 334]\n",
    "    week   = ['Sunday', \n",
    "              'Monday', \n",
    "              'Tuesday', \n",
    "              'Wednesday', \n",
    "              'Thursday',  \n",
    "              'Friday', \n",
    "              'Saturday']\n",
    "    afterFeb = 1\n",
    "    if month > 2: afterFeb = 0\n",
    "    aux = year - 1700 - afterFeb\n",
    "    # dayOfWeek for 1700/1/1 = 5, Friday\n",
    "    dayOfWeek  = 5\n",
    "    # partial sum of days betweem current date and 1700/1/1\n",
    "    dayOfWeek += (aux + afterFeb) * 365                  \n",
    "    # leap year correction    \n",
    "    dayOfWeek += aux / 4 - aux / 100 + (aux + 100) / 400     \n",
    "    # sum monthly and day offsets\n",
    "    dayOfWeek += offset[month - 1] + (day - 1)               \n",
    "    dayOfWeek %= 7\n",
    "    return dayOfWeek"
   ]
  },
  {
   "cell_type": "code",
   "execution_count": 74,
   "metadata": {},
   "outputs": [],
   "source": [
    "def data2day(times):\n",
    "    month = np.zeros((len(times),)); weekday = np.zeros((len(times),)); time_point = np.zeros((len(times),)); year = np.zeros((len(times),))\n",
    "    for idx,time in enumerate(tqdm(times)):\n",
    "        date = time[:10]\n",
    "        month[idx] = int(date[5:7])\n",
    "        year[idx] = int(date[0:4])\n",
    "        weekday[idx] = weekDay(int(date[0:4]), int(date[5:7]), int(date[8:10]))\n",
    "        time_point[idx] = time[11:13]\n",
    "        \n",
    "    return weekday, time_point, month, year"
   ]
  },
  {
   "cell_type": "code",
   "execution_count": 75,
   "metadata": {},
   "outputs": [
    {
     "name": "stderr",
     "output_type": "stream",
     "text": [
      "100%|██████████| 1264005/1264005 [00:02<00:00, 437585.09it/s]\n"
     ]
    }
   ],
   "source": [
    "weekday, time_point, month, year = data2day(csvFile_In_DataFrame['value.timeStamp'])"
   ]
  },
  {
   "cell_type": "code",
   "execution_count": null,
   "metadata": {},
   "outputs": [],
   "source": []
  },
  {
   "cell_type": "code",
   "execution_count": null,
   "metadata": {},
   "outputs": [],
   "source": []
  }
 ],
 "metadata": {
  "kernelspec": {
   "display_name": "Python 3",
   "language": "python",
   "name": "python3"
  },
  "language_info": {
   "codemirror_mode": {
    "name": "ipython",
    "version": 3
   },
   "file_extension": ".py",
   "mimetype": "text/x-python",
   "name": "python",
   "nbconvert_exporter": "python",
   "pygments_lexer": "ipython3",
   "version": "3.6.5"
  }
 },
 "nbformat": 4,
 "nbformat_minor": 2
}
